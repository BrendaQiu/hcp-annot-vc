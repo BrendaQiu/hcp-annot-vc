{
 "cells": [
  {
   "cell_type": "markdown",
   "metadata": {},
   "source": [
    "# Introduction"
   ]
  },
  {
   "cell_type": "markdown",
   "metadata": {},
   "source": [
    "### Configuration"
   ]
  },
  {
   "cell_type": "code",
   "execution_count": 1,
   "metadata": {},
   "outputs": [],
   "source": [
    "# The cache directories:\n",
    "cache_path       = '~/data/crcns2021'\n",
    "image_cache_path = f'{cache_path}/annot-images'\n",
    "v123_cache_path  = f'{cache_path}/annot-v123'\n",
    "csulc_cache_path = f'{cache_path}/annot-csulc'\n",
    "trace_save_path = f'~/projects/hcp-annot-vc/save' # modified\n",
    "labels_path = f'{cache_path}/results/labels'\n",
    "\n",
    "#If you aren't using /data\n",
    "import os\n",
    "os.environ['HCPANNOT_LOAD_PATH'] = cache_path"
   ]
  },
  {
   "cell_type": "markdown",
   "metadata": {},
   "source": [
    "### Dependencies"
   ]
  },
  {
   "cell_type": "code",
   "execution_count": 2,
   "metadata": {},
   "outputs": [],
   "source": [
    "import os, sys, pimms, pandas, warnings, urllib, datetime\n",
    "import numpy as np\n",
    "import scipy as sp\n",
    "import scipy.sparse as sps\n",
    "import nibabel as nib\n",
    "import neuropythy as ny\n",
    "\n",
    "import matplotlib as mpl\n",
    "import matplotlib.pyplot as plt\n",
    "import ipyvolume as ipv\n",
    "import torch, json"
   ]
  },
  {
   "cell_type": "code",
   "execution_count": 3,
   "metadata": {},
   "outputs": [],
   "source": [
    "%matplotlib inline"
   ]
  },
  {
   "cell_type": "code",
   "execution_count": 4,
   "metadata": {},
   "outputs": [],
   "source": [
    "# Additional matplotlib preferences:\n",
    "font_data = {'family':'sans-serif',\n",
    "             'sans-serif':['HelveticaNeue', 'Helvetica', 'Arial'],\n",
    "             'size': 10,\n",
    "             'weight': 'light'}\n",
    "mpl.rc('font',**font_data)\n",
    "# we want relatively high-res images, especially when saving to disk.\n",
    "mpl.rcParams['figure.dpi'] = 72*2\n",
    "mpl.rcParams['savefig.dpi'] = 72*4"
   ]
  },
  {
   "cell_type": "markdown",
   "metadata": {},
   "source": [
    "### Import `hcpannot`"
   ]
  },
  {
   "cell_type": "code",
   "execution_count": 5,
   "metadata": {
    "scrolled": true
   },
   "outputs": [],
   "source": [
    "# Make sure we are in the right directory for this!\n",
    "\n",
    "if os.getcwd().endswith('/work'):\n",
    "    #sys.path.append(os.path.abspath('..'))\n",
    "    sys.path.append(os.path.expanduser('~/projects/hcp-annot-vc'))\n",
    "\n",
    "# Now we can import the hcp-annot-vc library.\n",
    "import hcpannot\n",
    "\n",
    "# Note the cache path we want to use outside the docker container;\n",
    "# normally this gets set by the Docker startup, so here outside\n",
    "# the docker container we set it manually.\n",
    "hcpannot.interface.default_load_path = cache_path\n",
    "# We have to update some data after setting this.\n",
    "\n",
    "# We also want to grab a few variables from hcpannot:\n",
    "from hcpannot.interface import default_imshape as roi_image_shape\n",
    "roi_image_shape = roi_image_shape[0] // 2\n",
    "from hcpannot.interface import imgrid_to_flatmap\n",
    "from hcpannot.interface import flatmap_to_imgrid\n",
    "# The analysis plan (for processing contours):\n",
    "from hcpannot import vc_plan\n",
    "# The functions for loading and saving contours.\n",
    "from hcpannot import (save_contours, load_contours)\n",
    "\n",
    "# Subject lists. These are defined in the analysis subpackage of\n",
    "# the hcpannot library, and subject_list_<x> is the <x>th list of\n",
    "# subject IDs that we assigned.\n",
    "from hcpannot import (subject_ids, subject_list_1,\n",
    "                      subject_list_2, subject_list_3)\n",
    "sids = np.array(hcpannot.subject_ids)\n",
    "\n",
    "# We also want to import the IO functions.\n",
    "from hcpannot.io import (save_traces, export_traces, load_traces, export_paths,\n",
    "                         load_paths, export_means, calc_surface_areas)\n",
    "                         #export_labels)\n",
    "\n",
    "# The mean rater's name ('mean') and some plotting functions are also defined in\n",
    "# the hcpannot.analysis subpackage.\n",
    "from hcpannot.analysis import meanrater #plot_vc_contours)\n",
    "\n",
    "# Finally, we have some multiprocessing tools.\n",
    "# from hcpannot.mp import (tupcall, okaystr, failstr, retry_sleep, mprun, mpstep,\n",
    "#                          makejobs)"
   ]
  },
  {
   "cell_type": "markdown",
   "metadata": {},
   "source": [
    "### Usage Notes"
   ]
  },
  {
   "cell_type": "markdown",
   "metadata": {},
   "source": [
    "Here's an example code-block using the `plot_vc_contours` function to plot a set of boundaries along with the V1-V3 contours.\n",
    "\n",
    "```python\n",
    "dat = vc_plan(rater='BrendaQiu',\n",
    "              sid=111312,\n",
    "              hemisphere='lh',\n",
    "              save_path=trace_save_path)\n",
    "# Make the flatmap plot and the boundaries.\n",
    "fig = plot_contours(dat, boundaries=True)\n",
    "# Extract the pyplot axes that were used.\n",
    "ax = fig.axes[0]\n",
    "# Grab the subject data, which includes the V1-V3 contours.\n",
    "sdat = hcpannot.interface.subject_data[(dat['sid'],dat['hemisphere'])]\n",
    "# And plot all of these contours:\n",
    "for (x,y) in sdat['v123'].values():\n",
    "    ax.plot(x, y, 'w-', lw=0.25)\n",
    "```"
   ]
  },
  {
   "cell_type": "markdown",
   "metadata": {},
   "source": [
    "## Work"
   ]
  },
  {
   "cell_type": "markdown",
   "metadata": {},
   "source": [
    "### Average across raters"
   ]
  },
  {
   "cell_type": "code",
   "execution_count": 6,
   "metadata": {},
   "outputs": [],
   "source": [
    "raters = ['BrendaQiu', 'JiyeongHa', 'bogengsong', 'lindazelinzhao', 'nourahboujaber', 'jennifertepan']"
   ]
  },
  {
   "cell_type": "code",
   "execution_count": 26,
   "metadata": {},
   "outputs": [],
   "source": [
    "def plot_contours (raters, subject_id, hemi, roi, path=trace_save_path, plot_average = True):\n",
    "    \n",
    "    vcplans = {}\n",
    "    coordinates = {}\n",
    "    for r in raters:\n",
    "        cache_file = os.path.join(path, f\"cacherater_{r}_{subject_id}_{hemi}_{roi}.mgz\")\n",
    "        if os.path.isfile(cache_file):\n",
    "            coordinates[r] = ny.load(cache_file)\n",
    "        else:\n",
    "            dat = vc_plan(rater = r, sid = subject_id, hemisphere = hemi, save_path = path)\n",
    "            vcplans[r] = dat\n",
    "            try:\n",
    "                trace = dat['traces'][roi]\n",
    "                coordinates[r] = trace.curve.linspace(500)\n",
    "                ny.save(cache_file, coordinates[r])\n",
    "            except:\n",
    "                print('missing contour')\n",
    "            \n",
    "    # Now we just average the coordinate sets.\n",
    "    colors = ['r', 'b', 'cyan', 'orange', 'green', 'purple']\n",
    "    \n",
    "    if plot_average == True:\n",
    "        coords_avg = sum(coordinates.values())/len(coordinates)\n",
    "        coordinates['ave'] = coords_avg\n",
    "        colors = colors[:(len(coordinates)-1)]+['k']\n",
    "    else:\n",
    "        colors = colors[:(len(coordinates))]\n",
    "\n",
    "    for (c, (x,y)) in zip(colors, coordinates.values()):\n",
    "        plt.plot(x, y, color = c)\n",
    "    plt.show()"
   ]
  },
  {
   "cell_type": "code",
   "execution_count": 27,
   "metadata": {
    "scrolled": false
   },
   "outputs": [
    {
     "name": "stdout",
     "output_type": "stream",
     "text": [
      "missing contour\n",
      "missing contour\n",
      "missing contour\n"
     ]
    },
    {
     "data": {
      "image/png": "[encoded data removed]",
      "text/plain": [
       "<Figure size 864x576 with 1 Axes>"
      ]
     },
     "metadata": {
      "needs_background": "light"
     },
     "output_type": "display_data"
    }
   ],
   "source": [
    "plot_contours(raters, 100610, 'lh', 'hV4', plot_average = True)"
   ]
  },
  {
   "cell_type": "code",
   "execution_count": 23,
   "metadata": {},
   "outputs": [
    {
     "name": "stdout",
     "output_type": "stream",
     "text": [
      "\u001b[34mAnnie-lsc\u001b[m\u001b[m\r\n",
      "\u001b[34mAsia-Burton\u001b[m\u001b[m\r\n",
      "\u001b[34mBrendaQiu\u001b[m\u001b[m\r\n",
      "BrendaQiu_111312_rh_hV4.mgz\r\n",
      "\u001b[34mJiyeongHa\u001b[m\u001b[m\r\n",
      "README.md\r\n",
      "\u001b[34mbogengsong\u001b[m\u001b[m\r\n",
      "bogengsong_111312_rh_hV4.mgz\r\n",
      "cacherater_BrendaQiu_100610_rh_VO1.mgz\r\n",
      "cacherater_BrendaQiu_100610_rh_hV4.mgz\r\n",
      "cacherater_BrendaQiu_111312_lh_VO1.mgz\r\n",
      "cacherater_BrendaQiu_111312_lh_VO2.mgz\r\n",
      "cacherater_BrendaQiu_111312_rh_VO1.mgz\r\n",
      "cacherater_BrendaQiu_111312_rh_VO2.mgz\r\n",
      "cacherater_BrendaQiu_111312_rh_hV4.mgz\r\n",
      "cacherater_bogengsong_100610_lh_hV4.mgz\r\n",
      "cacherater_bogengsong_100610_rh_VO1.mgz\r\n",
      "cacherater_bogengsong_100610_rh_hV4.mgz\r\n",
      "cacherater_bogengsong_111312_lh_VO1.mgz\r\n",
      "cacherater_bogengsong_111312_lh_VO2.mgz\r\n",
      "cacherater_bogengsong_111312_rh_VO1.mgz\r\n",
      "cacherater_bogengsong_111312_rh_VO2.mgz\r\n",
      "cacherater_bogengsong_111312_rh_hV4.mgz\r\n",
      "cacherater_jennifertepan_100610_rh_VO1.mgz\r\n",
      "cacherater_jennifertepan_100610_rh_hV4.mgz\r\n",
      "cacherater_jennifertepan_111312_lh_VO1.mgz\r\n",
      "cacherater_jennifertepan_111312_lh_VO2.mgz\r\n",
      "cacherater_jennifertepan_111312_rh_VO1.mgz\r\n",
      "cacherater_jennifertepan_111312_rh_VO2.mgz\r\n",
      "cacherater_jennifertepan_111312_rh_hV4.mgz\r\n",
      "cacherater_lindazelinzhao_100610_lh_hV4.mgz\r\n",
      "cacherater_lindazelinzhao_100610_rh_VO1.mgz\r\n",
      "cacherater_lindazelinzhao_100610_rh_hV4.mgz\r\n",
      "cacherater_lindazelinzhao_111312_lh_VO1.mgz\r\n",
      "cacherater_lindazelinzhao_111312_lh_VO2.mgz\r\n",
      "cacherater_lindazelinzhao_111312_rh_VO1.mgz\r\n",
      "cacherater_lindazelinzhao_111312_rh_VO2.mgz\r\n",
      "cacherater_lindazelinzhao_111312_rh_hV4.mgz\r\n",
      "cacherater_nourahboujaber_100610_lh_hV4.mgz\r\n",
      "cacherater_nourahboujaber_100610_rh_VO1.mgz\r\n",
      "cacherater_nourahboujaber_100610_rh_hV4.mgz\r\n",
      "cacherater_nourahboujaber_111312_lh_VO1.mgz\r\n",
      "cacherater_nourahboujaber_111312_lh_VO2.mgz\r\n",
      "cacherater_nourahboujaber_111312_rh_VO1.mgz\r\n",
      "cacherater_nourahboujaber_111312_rh_VO2.mgz\r\n",
      "cacherater_nourahboujaber_111312_rh_hV4.mgz\r\n",
      "\u001b[34mjennifertepan\u001b[m\u001b[m\r\n",
      "jennifertepan_111312_rh_hV4.mgz\r\n",
      "\u001b[34mlindazelinzhao\u001b[m\u001b[m\r\n",
      "lindazelinzhao_111312_rh_hV4.mgz\r\n",
      "\u001b[34mmominbashir\u001b[m\u001b[m\r\n",
      "\u001b[34mnourahboujaber\u001b[m\u001b[m\r\n",
      "nourahboujaber_111312_rh_hV4.mgz\r\n",
      "\u001b[34moadesiyan\u001b[m\u001b[m\r\n",
      "\u001b[34mqiutan6li\u001b[m\u001b[m\r\n",
      "\u001b[34msc5992\u001b[m\u001b[m\r\n"
     ]
    }
   ],
   "source": [
    "!ls {trace_save_path}"
   ]
  },
  {
   "cell_type": "code",
   "execution_count": null,
   "metadata": {},
   "outputs": [],
   "source": [
    "# First: Average across two subjects for the same rater.\n",
    "\n",
    "# Get the traces for one rater and one subject.\n",
    "dat1 = vc_plan(\n",
    "    rater=rater1,\n",
    "    sid=sid1,\n",
    "    hemisphere='lh',\n",
    "    save_path=trace_save_path)\n",
    "dat2 = vc_plan(\n",
    "    rater=rater1,\n",
    "    sid=sid2,\n",
    "    hemisphere='lh',\n",
    "    save_path=trace_save_path)"
   ]
  },
  {
   "cell_type": "code",
   "execution_count": null,
   "metadata": {},
   "outputs": [],
   "source": [
    "# To average across subjects for a single rater, we need to warp everything\n",
    "# into the fsaverage so that subject surfaces are aligned.\n",
    "# To do this we need to make path objects from the trace objects.\n",
    "\n",
    "# Grab a trace:\n",
    "trace1 = dat1['traces']['hV4']\n",
    "# Get the subject's hemisphere data:\n",
    "hem1 = ny.data['hcp_lines'].subjects[sid1].hemis['lh']\n",
    "\n",
    "# Turning the trace into a path (which knows about how the trace intersects\n",
    "# the triangles in the mesh, so we can warp the trace/path into fsaverage\n",
    "# alignment).\n",
    "path1 = trace1.to_path(hem1)\n",
    "# Make an fsaverage-aligned flatmap:\n",
    "fmap1 = ny.to_flatmap('occipital_pole', hem1)\n",
    "# Extract x and y coordinates in fsaverage-aligned flatmap.\n",
    "fsa_coords1 = fmap1.unaddress(path1.addresses)\n",
    "\n",
    "# Do the same thing for the other trace:\n",
    "trace2 = dat2['traces']['hV4']\n",
    "# Get the subject's hemisphere data:\n",
    "hem2 = ny.data['hcp_lines'].subjects[sid2].hemis['lh']\n",
    "\n",
    "# Turning the trace into a path (which knows about how the trace intersects\n",
    "# the triangles in the mesh, so we can warp the trace/path into fsaverage\n",
    "# alignment).\n",
    "path2 = trace2.to_path(hem2)\n",
    "# Make an fsaverage-aligned flatmap:\n",
    "fmap2 = ny.to_flatmap('occipital_pole', hem2)\n",
    "# Extract x and y coordinates in fsaverage-aligned flatmap.\n",
    "fsa_coords2 = fmap2.unaddress(path2.addresses)"
   ]
  },
  {
   "cell_type": "code",
   "execution_count": null,
   "metadata": {},
   "outputs": [],
   "source": [
    "# Plot the two subjects' traces together:\n",
    "(x, y) = fsa_coords1\n",
    "plt.plot(x, y, 'k.-')\n",
    "(x, y) = fsa_coords2\n",
    "plt.plot(x, y, 'r.-')"
   ]
  },
  {
   "cell_type": "code",
   "execution_count": null,
   "metadata": {},
   "outputs": [],
   "source": [
    "# Average the traces of the subjects together:\n",
    "curve1 = ny.util.CurveSpline(fsa_coords1)\n",
    "fsa_normalized_coords1 = curve1.linspace(800)\n",
    "curve2 = ny.util.CurveSpline(fsa_coords2)\n",
    "fsa_normalized_coords2 = curve2.linspace(800)\n",
    "\n",
    "fsa_coords_avg = 0.5 * (fsa_normalized_coords1 + fsa_normalized_coords2)"
   ]
  },
  {
   "cell_type": "code",
   "execution_count": null,
   "metadata": {},
   "outputs": [],
   "source": [
    "(x, y) = fsa_coords1\n",
    "plt.plot(x, y, 'b.-')\n",
    "(x, y) = fsa_coords2\n",
    "plt.plot(x, y, 'r.-')\n",
    "# Add in the average coordinate.\n",
    "(x, y) = fsa_coords_avg\n",
    "plt.plot(x, y, 'k.-')"
   ]
  },
  {
   "cell_type": "code",
   "execution_count": null,
   "metadata": {},
   "outputs": [],
   "source": [
    "# Once you've calculated a set of fsaverage-aligned points, you can save it to\n",
    "# disk and reload it.\n",
    "ny.save(f'{sid1}_{rater1}_fsacoords.mgz', fsa_normalized_coords1)"
   ]
  },
  {
   "cell_type": "code",
   "execution_count": null,
   "metadata": {},
   "outputs": [],
   "source": [
    "ny.load(f'{sid1}_{rater1}_fsacoords.mgz')"
   ]
  },
  {
   "cell_type": "code",
   "execution_count": null,
   "metadata": {},
   "outputs": [],
   "source": [
    "# Extract traces for hV4 boundary and split them into 500 evenly-spaced\n",
    "# points along the boundary.\n",
    "trace1 = dat1['traces']['hV4'] #'hV4' here can be replaced with 'VO1' or 'VO2'\n",
    "coords1 = trace1.curve.linspace(500)\n",
    "trace2 = dat2['traces']['hV4']\n",
    "coords2 = trace2.curve.linspace(500)\n",
    "\n",
    "# Now we just average the two coordinate sets.\n",
    "coords_avg = 0.5 * (coords1 + coords2)\n",
    "\n",
    "# Plot the average (along with the originals in blue and red).\n",
    "for (color, (x,y)) in zip(['r', 'b', 'k'], [coords1, coords2, coords_avg]):\n",
    "    plt.plot(x, y, color + '-')"
   ]
  }
 ],
 "metadata": {
  "kernelspec": {
   "display_name": "Python [conda env:root] *",
   "language": "python",
   "name": "conda-root-py"
  },
  "language_info": {
   "codemirror_mode": {
    "name": "ipython",
    "version": 3
   },
   "file_extension": ".py",
   "mimetype": "text/x-python",
   "name": "python",
   "nbconvert_exporter": "python",
   "pygments_lexer": "ipython3",
   "version": "3.9.7"
  },
  "varInspector": {
   "cols": {
    "lenName": 16,
    "lenType": 16,
    "lenVar": 40
   },
   "kernels_config": {
    "python": {
     "delete_cmd_postfix": "",
     "delete_cmd_prefix": "del ",
     "library": "var_list.py",
     "varRefreshCmd": "print(var_dic_list())"
    },
    "r": {
     "delete_cmd_postfix": ") ",
     "delete_cmd_prefix": "rm(",
     "library": "var_list.r",
     "varRefreshCmd": "cat(var_dic_list()) "
    }
   },
   "types_to_exclude": [
    "module",
    "function",
    "builtin_function_or_method",
    "instance",
    "_Feature"
   ],
   "window_display": false
  },
  "widgets": {
   "application/vnd.jupyter.widget-state+json": {
    "state": {},
    "version_major": 2,
    "version_minor": 0
   }
  }
 },
 "nbformat": 4,
 "nbformat_minor": 4
}
