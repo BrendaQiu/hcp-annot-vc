{
 "cells": [
  {
   "cell_type": "code",
   "execution_count": 1,
   "metadata": {},
   "outputs": [],
   "source": [
    "import os, pathlib\n",
    "import numpy as np\n",
    "import neuropythy as ny\n",
    "import matplotlib as mpl, matplotlib.pyplot as plt\n",
    "import ipyvolume as ipv\n",
    "import pandas as pd"
   ]
  },
  {
   "cell_type": "code",
   "execution_count": 19,
   "metadata": {},
   "outputs": [],
   "source": [
    "# The following code is for loading in the ventral ROI labels.\n",
    "ventral_label_path = '~/code/hcp-annot-vc_data/save'\n",
    "def load_ventral_pathaddr(rater, sid, h, lbl):\n",
    "    p = pathlib.Path(ventral_label_path).expanduser()\n",
    "    p = p / rater / str(sid)\n",
    "    return ny.load(str(p / f\"{h}.{lbl}_path.json.gz\"))\n",
    "def load_ventral_pathaddrs(rater, sid, h):\n",
    "    rois = {}\n",
    "    for k in ['hV4', 'VO1', 'VO2']:\n",
    "        rois[k] = load_ventral_pathaddr(rater, sid, h, k)\n",
    "    return rois\n",
    "def load_ventral_paths(rater, sid, h):\n",
    "    addrs = load_ventral_pathaddrs(rater, sid, h)\n",
    "    hem = ny.data['hcp_lines'].subjects[sid].hemis[h]\n",
    "    return {k: ny.geometry.Path(hem, path)\n",
    "            for (k,path) in addrs.items()}\n",
    "def load_ventral_labels(rater, sid, h):\n",
    "    paths = load_ventral_paths(rater, sid, h)\n",
    "    lbls = {}\n",
    "    for (k,path) in paths.items():\n",
    "        lbl = (path.label > 0.5)\n",
    "        if np.sum(lbl) > np.sum(~lbl):\n",
    "            lbl = ~lbl\n",
    "        lbls[k] = lbl\n",
    "    return lbls"
   ]
  },
  {
   "cell_type": "code",
   "execution_count": 20,
   "metadata": {},
   "outputs": [],
   "source": [
    "# This is the sample rater and subject/hemisphere we will be using.\n",
    "rater = 'lindazelinzhao'\n",
    "sid = 102311\n",
    "h = 'lh'\n",
    "\n",
    "# Get the subject and hemisphere object, and the midgray surface.\n",
    "sub = ny.data['hcp_lines'].subjects[sid]\n",
    "hem = sub.hemis[h]\n",
    "surf = hem.surface('midgray')\n",
    "\n",
    "# Load the labels for visual areas and combine them.\n",
    "ventral_labels = load_ventral_labels(rater, sid, h)\n",
    "early_labels = {f'V{k}': hem.prop('visual_area') == k\n",
    "                for k in [1,2,3]}\n",
    "labels = dict(ventral_labels)\n",
    "labels.update(early_labels)"
   ]
  },
  {
   "cell_type": "code",
   "execution_count": null,
   "metadata": {},
   "outputs": [],
   "source": []
  }
 ],
 "metadata": {
  "kernelspec": {
   "display_name": "Noah's Python Environment",
   "language": "python",
   "name": "python-nben"
  },
  "language_info": {
   "codemirror_mode": {
    "name": "ipython",
    "version": 3
   },
   "file_extension": ".py",
   "mimetype": "text/x-python",
   "name": "python",
   "nbconvert_exporter": "python",
   "pygments_lexer": "ipython3",
   "version": "3.8.2"
  }
 },
 "nbformat": 4,
 "nbformat_minor": 4
}
